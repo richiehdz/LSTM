{
 "cells": [
  {
   "cell_type": "code",
   "execution_count": 12,
   "id": "ee86b375",
   "metadata": {},
   "outputs": [],
   "source": [
    "import pandas as pd\n",
    "import numpy as np\n",
    "from sklearn.ensemble import RandomForestRegressor\n",
    "from sklearn.preprocessing import MinMaxScaler, LabelEncoder\n",
    "from comparation2 import comparation2\n"
   ]
  },
  {
   "cell_type": "code",
   "execution_count": 13,
   "id": "96e82c5f",
   "metadata": {},
   "outputs": [],
   "source": [
    "# Cargar datos\n",
    "oferta_file = \"oferta_academica_unificada.csv\"\n",
    "real_file = \"resumen_cupos_2025A.xlsx\"\n",
    "df = pd.read_csv(oferta_file)\n",
    "df_real = pd.read_excel(real_file)\n"
   ]
  },
  {
   "cell_type": "code",
   "execution_count": 14,
   "id": "e83f2d6c",
   "metadata": {},
   "outputs": [],
   "source": [
    "# Preprocesamiento\n",
    "# Eliminar filas sin datos clave\n",
    "cols_needed = ['Materia', 'Total_Cupos', 'semestre_numerico', 'Total_Secciones', 'Residuos_Cupos']\n",
    "df = df.dropna(subset=cols_needed)\n",
    "df['Cupos_Usados'] = df['Total_Cupos'] - df['Residuos_Cupos'].fillna(0)\n",
    "df_real['Cupos_Usados'] = df_real['Total_Cupos'] - df_real['Residuos_Cupos'].fillna(0)\n"
   ]
  },
  {
   "cell_type": "code",
   "execution_count": 15,
   "id": "1e08a79d",
   "metadata": {},
   "outputs": [],
   "source": [
    "# Codificar materia\n",
    "le = LabelEncoder()\n",
    "df['materia_codificada'] = le.fit_transform(df['Materia'])\n"
   ]
  },
  {
   "cell_type": "code",
   "execution_count": 16,
   "id": "8185930a",
   "metadata": {},
   "outputs": [],
   "source": [
    "# Features y target\n",
    "features = ['materia_codificada', 'Total_Secciones', 'semestre_numerico', 'Residuos_Cupos']\n",
    "target = 'Cupos_Usados'\n"
   ]
  },
  {
   "cell_type": "code",
   "execution_count": 17,
   "id": "2e2c911f",
   "metadata": {},
   "outputs": [],
   "source": [
    "\n",
    "# Separar entrenamiento y predicción (2025A)\n",
    "semestre_pred = 4049  # 2025A\n",
    "train = df[df['semestre_numerico'] < semestre_pred]\n",
    "pred = df[df['semestre_numerico'] == semestre_pred]\n"
   ]
  },
  {
   "cell_type": "code",
   "execution_count": 18,
   "id": "cec8cf09",
   "metadata": {},
   "outputs": [],
   "source": [
    "# Escalar features y target\n",
    "scaler_X = MinMaxScaler()\n",
    "scaler_y = MinMaxScaler()\n",
    "X_train = scaler_X.fit_transform(train[features])\n",
    "y_train = scaler_y.fit_transform(train[[target]]).ravel()\n",
    "X_pred = scaler_X.transform(pred[features])\n"
   ]
  },
  {
   "cell_type": "code",
   "execution_count": 19,
   "id": "77f8cb1c",
   "metadata": {},
   "outputs": [
    {
     "data": {
      "text/plain": [
       "RandomForestRegressor(n_estimators=200, random_state=42)"
      ]
     },
     "execution_count": 19,
     "metadata": {},
     "output_type": "execute_result"
    }
   ],
   "source": [
    "# Entrenar modelo\n",
    "model = RandomForestRegressor(n_estimators=200, random_state=42)\n",
    "model.fit(X_train, y_train)\n"
   ]
  },
  {
   "cell_type": "code",
   "execution_count": 20,
   "id": "e71975a3",
   "metadata": {},
   "outputs": [],
   "source": [
    "# Predecir y desescalar\n",
    "y_pred_scaled = model.predict(X_pred).reshape(-1, 1)\n",
    "y_pred_real = scaler_y.inverse_transform(y_pred_scaled)\n",
    "pred = pred.copy()\n",
    "pred['Cupos_Estimados'] = y_pred_real\n"
   ]
  },
  {
   "cell_type": "code",
   "execution_count": 21,
   "id": "e2d0fb5c",
   "metadata": {},
   "outputs": [
    {
     "name": "stdout",
     "output_type": "stream",
     "text": [
      "✅ Archivo generado: predicciones_cupos_proximo_semestre.xlsx\n"
     ]
    }
   ],
   "source": [
    "# Guardar predicciones agrupadas por materia\n",
    "df_guardar = pred[['Materia', 'Cupos_Estimados']].groupby('Materia').mean().reset_index()\n",
    "df_guardar.to_excel(\"predicciones_cupos_proximo_semestre.xlsx\", index=False)\n",
    "print(\"✅ Archivo generado: predicciones_cupos_proximo_semestre.xlsx\")\n"
   ]
  },
  {
   "cell_type": "code",
   "execution_count": 22,
   "id": "28caf331",
   "metadata": {},
   "outputs": [
    {
     "name": "stdout",
     "output_type": "stream",
     "text": [
      "                                                                                  Materia  Cupos_Usados  Cupos_Estimados  Error_Absoluto  Desviacion_%\n",
      "                                                                   ESTRUCTURAS DE DATOS I             1           13.920          12.920   1292.000000\n",
      "                            SEMINARIO DE SOLUCION DE PROBLEMAS DE ESTRUCTURAS DE DATOS II            14          156.550         142.550   1018.214286\n",
      "                                                                  ESTRUCTURAS DE DATOS II             8           56.455          48.455    605.687500\n",
      "                                                                               HIPERMEDIA            33          206.350         173.350    525.303030\n",
      "                                                                               ALGORITMIA            26          145.455         119.455    459.442308\n",
      "                                                                           BASES DE DATOS            27          149.495         122.495    453.685185\n",
      "                                     SEMINARIO DE SOLUCION DE PROBLEMAS DE BASES DE DATOS            53          273.270         220.270    415.603774\n",
      "                                         SEMINARIO DE SOLUCION DE PROBLEMAS DE ALGORITMIA            56          274.265         218.265    389.758929\n",
      "                                                                     CONTROL DE PROYECTOS            91          212.135         121.135    133.115385\n",
      "                           SEMINARIO DE SOLUCION DE PROBLEMAS DE INGENIERIA DE SOFTWARE I           123          277.105         154.105    125.288618\n",
      "                             SEMINARIO DE SOLUCION DE PROBLEMAS DE ESTRUCTURAS DE DATOS I             9           19.380          10.380    115.333333\n",
      "                                                               PROGRAMACION PARA INTERNET           180          378.940         198.940    110.522222\n",
      "                                       SEMINARIO DE SOLUCION DE PROBLEMAS DE PROGRAMACION           132          272.290         140.290    106.280303\n",
      "                                                      ESTADISTICA Y PROCESOS ESTOCASTICOS           182          361.610         179.610     98.686813\n",
      "                                                                             PROGRAMACION           142          279.610         137.610     96.908451\n",
      "                              SEMINARIO DE SOLUCION DE PROBLEMAS DE METODOS MATEMATICOS I           151          293.785         142.785     94.559603\n",
      "                                                                    METODOS MATEMATICOS I           161          308.055         147.055     91.338509\n",
      "                                                                 INGENIERIA DE SOFTWARE I            43           13.605          29.395    -68.360465\n",
      "                                                              SEGURIDAD DE LA INFORMACION           113          184.700          71.700     63.451327\n",
      "                                                                 TEORIA DE LA COMPUTACION            38           26.190          11.810    -31.078947\n",
      "                                     USO, ADAPTACION Y EXPLOTACION DE SISTEMAS OPERATIVOS           216          151.865          64.135    -29.692130\n",
      "                                                         SISTEMAS BASADOS EN CONOCIMIENTO           205          146.890          58.110    -28.346341\n",
      "                                                       CLASIFICACION INTELIGENTE DE DATOS           220          160.765          59.235    -26.925000\n",
      "                             SEMINARIO DE SOLUCION DE PROBLEMAS DE METODOS MATEMATICOS II           223          273.960          50.960     22.852018\n",
      "SEMINARIO DE SOLUCION DE PROBLEMAS DE USO, ADAPTACION, EXPLOTACION DE SISTEMAS OPERATIVOS           199          155.055          43.945    -22.082915\n",
      "                                                         ADMINISTRACION DE BASES DE DATOS           189          154.950          34.050    -18.015873\n",
      "                                                      ALMACENES DE DATOS (DATA WAREHOUSE)           191          156.745          34.255    -17.934555\n",
      "                   SEMINARIO DE SOLUCION DE PROBLEMAS DE SISTEMAS BASADOS EN CONOCIMIENTO           183          155.490          27.510    -15.032787\n",
      "                                                                   METODOS MATEMATICOS II           258          292.585          34.585     13.405039\n",
      "                                                             ADMINISTRACION DE SERVIDORES           134          142.640           8.640      6.447761\n",
      "                                                                         MINERIA DE DATOS           170          162.535           7.465     -4.391176\n",
      "                                                                INGENIERIA DE SOFTWARE II           159          156.870           2.130     -1.339623\n",
      "\n",
      "📊 MAE (promedio de error absoluto en cupos usados): 88.36\n",
      "📉 MAPE (porcentaje de error promedio en cupos usados): 203.16%\n"
     ]
    }
   ],
   "source": [
    "# Comparar resultados\n",
    "comparation2() "
   ]
  }
 ],
 "metadata": {
  "kernelspec": {
   "display_name": "Python 3",
   "language": "python",
   "name": "python3"
  },
  "language_info": {
   "codemirror_mode": {
    "name": "ipython",
    "version": 3
   },
   "file_extension": ".py",
   "mimetype": "text/x-python",
   "name": "python",
   "nbconvert_exporter": "python",
   "pygments_lexer": "ipython3",
   "version": "3.7.9"
  }
 },
 "nbformat": 4,
 "nbformat_minor": 5
}
