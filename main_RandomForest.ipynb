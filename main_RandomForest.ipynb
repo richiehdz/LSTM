{
 "cells": [
  {
   "cell_type": "code",
   "execution_count": 162,
   "id": "ee86b375",
   "metadata": {},
   "outputs": [],
   "source": [
    "# 📦 Importar librerías\n",
    "import pandas as pd\n",
    "import numpy as np\n",
    "from sklearn.ensemble import RandomForestRegressor\n",
    "from sklearn.preprocessing import MinMaxScaler, LabelEncoder\n",
    "from sklearn.metrics import mean_absolute_error, mean_absolute_percentage_error\n"
   ]
  },
  {
   "cell_type": "code",
   "execution_count": 163,
   "id": "96e82c5f",
   "metadata": {},
   "outputs": [],
   "source": [
    "# 📁 Cargar archivos\n",
    "df = pd.read_csv(\"oferta_academica_unificada.csv\")\n",
    "df_real = pd.read_excel(\"resumen_cupos_2025A.xlsx\")\n"
   ]
  },
  {
   "cell_type": "code",
   "execution_count": 164,
   "id": "e83f2d6c",
   "metadata": {},
   "outputs": [],
   "source": [
    "# 🎯 Crear columna Cupos_Usados (Target real para evaluación)\n",
    "df_real[\"Cupos_Usados\"] = df_real[\"Total_Cupos\"] - df_real[\"Residuos_Cupos\"].fillna(0)\n"
   ]
  },
  {
   "cell_type": "code",
   "execution_count": 165,
   "id": "1e08a79d",
   "metadata": {},
   "outputs": [],
   "source": [
    "# 🧹 Preprocesamiento\n",
    "df = df.dropna(subset=['Materia', 'Total_Cupos', 'semestre_numerico'])\n",
    "df['Cupos_Usados'] = df['Total_Cupos'] - df['Residuos_Cupos'].fillna(0)\n"
   ]
  },
  {
   "cell_type": "code",
   "execution_count": 166,
   "id": "8185930a",
   "metadata": {},
   "outputs": [],
   "source": [
    "# Codificar materias\n",
    "le = LabelEncoder()\n",
    "df['materia_codificada'] = le.fit_transform(df['Materia'])\n"
   ]
  },
  {
   "cell_type": "code",
   "execution_count": 167,
   "id": "2e2c911f",
   "metadata": {},
   "outputs": [],
   "source": [
    "# 📊 Separar entrenamiento (4042–4048) y predicción (4049 = 2025A)\n",
    "df_train = df[df['semestre_numerico'] < 4049]\n",
    "df_pred = df[df['semestre_numerico'] == 4049]\n"
   ]
  },
  {
   "cell_type": "code",
   "execution_count": 168,
   "id": "cec8cf09",
   "metadata": {},
   "outputs": [],
   "source": [
    "# Escalar features y target por separado\n",
    "features = ['materia_codificada', 'Total_Secciones', 'semestre_numerico']\n",
    "target = 'Cupos_Usados'\n",
    "\n",
    "scaler_X = MinMaxScaler()\n",
    "scaler_y = MinMaxScaler()\n",
    "\n",
    "# Fit-transform para X y y en entrenamiento\n",
    "X_train = scaler_X.fit_transform(df_train[features])\n",
    "y_train = scaler_y.fit_transform(df_train[[target]])\n",
    "\n",
    "# Transformar X del conjunto de prueba\n",
    "X_pred = scaler_X.transform(df_pred[features])\n"
   ]
  },
  {
   "cell_type": "code",
   "execution_count": 169,
   "id": "77f8cb1c",
   "metadata": {},
   "outputs": [
    {
     "data": {
      "text/plain": [
       "RandomForestRegressor(n_estimators=200, random_state=42)"
      ]
     },
     "execution_count": 169,
     "metadata": {},
     "output_type": "execute_result"
    }
   ],
   "source": [
    "# 🚀 Entrenar modelo\n",
    "X_train = df_train_scaled[features]\n",
    "y_train = df_train_scaled[target]\n",
    "\n",
    "model = RandomForestRegressor(n_estimators=200, random_state=42)\n",
    "model.fit(X_train, y_train)\n"
   ]
  },
  {
   "cell_type": "code",
   "execution_count": 170,
   "id": "e71975a3",
   "metadata": {},
   "outputs": [
    {
     "name": "stderr",
     "output_type": "stream",
     "text": [
      "c:\\Users\\richa\\AppData\\Local\\Programs\\Python\\Python37\\lib\\site-packages\\sklearn\\base.py:451: UserWarning: X does not have valid feature names, but RandomForestRegressor was fitted with feature names\n",
      "  \"X does not have valid feature names, but\"\n",
      "C:\\Users\\richa\\AppData\\Roaming\\Python\\Python37\\site-packages\\ipykernel_launcher.py:5: SettingWithCopyWarning: \n",
      "A value is trying to be set on a copy of a slice from a DataFrame.\n",
      "Try using .loc[row_indexer,col_indexer] = value instead\n",
      "\n",
      "See the caveats in the documentation: https://pandas.pydata.org/pandas-docs/stable/user_guide/indexing.html#returning-a-view-versus-a-copy\n",
      "  \"\"\"\n"
     ]
    }
   ],
   "source": [
    "# 🤖 Predicción y desescalado\n",
    "y_pred_scaled = model.predict(X_pred).reshape(-1, 1)\n",
    "y_pred_real = scaler_y.inverse_transform(y_pred_scaled)\n",
    "\n",
    "df_pred['Cupos_Estimados'] = y_pred_real\n"
   ]
  },
  {
   "cell_type": "code",
   "execution_count": 171,
   "id": "e2d0fb5c",
   "metadata": {},
   "outputs": [
    {
     "name": "stdout",
     "output_type": "stream",
     "text": [
      "✅ Archivo generado: predicciones_cupos_proximo_semestre.xlsx\n",
      "                               Materia  Cupos_Estimados\n",
      "0     ADMINISTRACION DE BASES DE DATOS       117.746329\n",
      "1              ADMINISTRACION DE REDES       170.856803\n",
      "2         ADMINISTRACION DE SERVIDORES       113.229901\n",
      "3                           ALGORITMIA       116.877001\n",
      "4  ALMACENES DE DATOS (DATA WAREHOUSE)       116.877001\n"
     ]
    }
   ],
   "source": [
    "# ✅ Agrupar por materia para exportar\n",
    "df_guardar = df_pred[['Materia', 'Cupos_Estimados']].groupby('Materia').mean().reset_index()\n",
    "df_guardar.to_excel(\"predicciones_cupos_proximo_semestre.xlsx\", index=False)\n",
    "print(\"✅ Archivo generado: predicciones_cupos_proximo_semestre.xlsx\")\n",
    "print(df_guardar.head())"
   ]
  }
 ],
 "metadata": {
  "kernelspec": {
   "display_name": "Python 3",
   "language": "python",
   "name": "python3"
  },
  "language_info": {
   "codemirror_mode": {
    "name": "ipython",
    "version": 3
   },
   "file_extension": ".py",
   "mimetype": "text/x-python",
   "name": "python",
   "nbconvert_exporter": "python",
   "pygments_lexer": "ipython3",
   "version": "3.7.9"
  }
 },
 "nbformat": 4,
 "nbformat_minor": 5
}
